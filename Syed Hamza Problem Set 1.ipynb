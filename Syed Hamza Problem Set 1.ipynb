{
 "cells": [
  {
   "cell_type": "markdown",
   "metadata": {
    "slideshow": {
     "slide_type": "slide"
    }
   },
   "source": [
    "<h1><font color='#004b87'><center>BDAT 1004</center></font></h1>\n",
    "<h3><center>Problem Set 1 Solution</center></h3>\n",
    "<h3><center>By: SYED HAMZA</center></h3>"
   ]
  },
  {
   "cell_type": "markdown",
   "metadata": {
    "slideshow": {
     "slide_type": "slide"
    }
   },
   "source": [
    "<h2><font color='#004b87'>Question 01</font></h2>\n",
    "<p></p>\n",
    "\n",
    "<p>What data type is each of the following (evaluate where necessary)?</p?\n"
   ]
  },
  {
   "cell_type": "code",
   "execution_count": 11,
   "metadata": {},
   "outputs": [
    {
     "name": "stdout",
     "output_type": "stream",
     "text": [
      "<class 'int'>\n",
      "5 is of type integer (int).\n"
     ]
    }
   ],
   "source": [
    "print(type(5))\n",
    "print(\"5 is of type integer (int).\")"
   ]
  },
  {
   "cell_type": "code",
   "execution_count": 12,
   "metadata": {},
   "outputs": [
    {
     "name": "stdout",
     "output_type": "stream",
     "text": [
      "<class 'float'>\n",
      "5 is of type float.\n"
     ]
    }
   ],
   "source": [
    "print(type(5.0))\n",
    "print(\"5 is of type float.\")"
   ]
  },
  {
   "cell_type": "code",
   "execution_count": 13,
   "metadata": {},
   "outputs": [
    {
     "name": "stdout",
     "output_type": "stream",
     "text": [
      "<class 'bool'>\n",
      "5 > 1 is of type boolean (bool). \n"
     ]
    }
   ],
   "source": [
    "print(type(5>1))\n",
    "print(\"5 > 1 is of type boolean (bool). \")"
   ]
  },
  {
   "cell_type": "code",
   "execution_count": 14,
   "metadata": {},
   "outputs": [
    {
     "name": "stdout",
     "output_type": "stream",
     "text": [
      "<class 'str'>\n",
      "5 > 1 is of type boolean (bool). \n"
     ]
    }
   ],
   "source": [
    "print(type('5'))\n",
    "print(\"5 > 1 is of type boolean (bool). \")"
   ]
  },
  {
   "cell_type": "code",
   "execution_count": 15,
   "metadata": {},
   "outputs": [
    {
     "name": "stdout",
     "output_type": "stream",
     "text": [
      "<class 'int'>\n",
      "5*2 = 10 is of type integer (int).\n"
     ]
    }
   ],
   "source": [
    "print(type(5*2))\n",
    "print(\"5*2 = 10 is of type integer (int).\")"
   ]
  },
  {
   "cell_type": "code",
   "execution_count": 16,
   "metadata": {},
   "outputs": [
    {
     "name": "stdout",
     "output_type": "stream",
     "text": [
      "<class 'str'>\n",
      "'5' * 2 is of type string as '5' will be printed twice as a string.\n"
     ]
    }
   ],
   "source": [
    "print(type('5' * 2))\n",
    "print(\"'5' * 2 is of type string as '5' will be printed twice as a string.\")"
   ]
  },
  {
   "cell_type": "code",
   "execution_count": 17,
   "metadata": {},
   "outputs": [
    {
     "name": "stdout",
     "output_type": "stream",
     "text": [
      "<class 'str'>\n",
      "'5' + '2' is of type string also known as concatenation.\n"
     ]
    }
   ],
   "source": [
    "print(type('5' + '2'))\n",
    "print(\"'5' + '2' is of type string also known as concatenation.\")"
   ]
  },
  {
   "cell_type": "code",
   "execution_count": 18,
   "metadata": {},
   "outputs": [
    {
     "name": "stdout",
     "output_type": "stream",
     "text": [
      "<class 'float'>\n",
      "5/2 is of float type as the resultant 2.5 is of float data type.\n"
     ]
    }
   ],
   "source": [
    "print(type(5/2))\n",
    "print(\"5/2 is of float type as the resultant 2.5 is of float data type.\")"
   ]
  },
  {
   "cell_type": "code",
   "execution_count": 19,
   "metadata": {},
   "outputs": [
    {
     "name": "stdout",
     "output_type": "stream",
     "text": [
      "<class 'int'>\n",
      "5%2 is of integer type as 5%2 will result in 1 as a remainder and 1 is an integer.\n"
     ]
    }
   ],
   "source": [
    "print(type(5%2))\n",
    "print(\"5%2 is of integer type as 5%2 will result in 1 as a remainder and 1 is an integer.\")"
   ]
  },
  {
   "cell_type": "code",
   "execution_count": 20,
   "metadata": {},
   "outputs": [
    {
     "name": "stdout",
     "output_type": "stream",
     "text": [
      "<class 'set'>\n",
      "{5,2,1} is of set type as each element is distinct and well-defined compared to other elements and there is no key-value pair.\n"
     ]
    }
   ],
   "source": [
    "q1_p7 = {5,2,1}\n",
    "print(type(q1_p7))\n",
    "print(\"{5,2,1} is of set type as each element is distinct and well-defined compared to other elements and there is no key-value pair.\")"
   ]
  },
  {
   "cell_type": "code",
   "execution_count": 21,
   "metadata": {},
   "outputs": [
    {
     "name": "stdout",
     "output_type": "stream",
     "text": [
      "<class 'bool'>\n",
      "5==3 is of boolean type as we are checking if 5 is equal to 3 or not resulting in either True or False possibility.\n"
     ]
    }
   ],
   "source": [
    "print(type(5==3))\n",
    "print(\"5==3 is of boolean type as we are checking if 5 is equal to 3 or not resulting in either True or False possibility.\")"
   ]
  },
  {
   "cell_type": "code",
   "execution_count": 22,
   "metadata": {},
   "outputs": [
    {
     "name": "stdout",
     "output_type": "stream",
     "text": [
      "<class 'float'>\n",
      "3.141592653589793\n",
      "Pi (the number) existing in the math library is of float type as the value evaluates to 3.141592653589793.\n"
     ]
    }
   ],
   "source": [
    "import math\n",
    "\n",
    "print(type(math.pi));\n",
    "print(math.pi)\n",
    "print(\"Pi (the number) existing in the math library is of float type as the value evaluates to 3.141592653589793.\")"
   ]
  },
  {
   "cell_type": "markdown",
   "metadata": {
    "slideshow": {
     "slide_type": "slide"
    }
   },
   "source": [
    "<h2><font color='#004b87'>Question 02</font></h2>\n",
    "<p></p>\n",
    "\n",
    "<p>Write (and evaluate) python expressions that answer these questions: </p>"
   ]
  },
  {
   "cell_type": "markdown",
   "metadata": {
    "slideshow": {
     "slide_type": "subslide"
    }
   },
   "source": [
    "<b>a. How many letters are there in 'Supercalifragilisticexpialidocious'?"
   ]
  },
  {
   "cell_type": "code",
   "execution_count": 23,
   "metadata": {
    "slideshow": {
     "slide_type": "-"
    }
   },
   "outputs": [
    {
     "name": "stdout",
     "output_type": "stream",
     "text": [
      "There are 34 letters in 'Supercalifragilisticexpialidocious'.\n"
     ]
    }
   ],
   "source": [
    "word = \"Supercalifragilisticexpialidocious\"\n",
    "print(\"There are\", len(word), \"letters in 'Supercalifragilisticexpialidocious'.\")"
   ]
  },
  {
   "cell_type": "markdown",
   "metadata": {
    "slideshow": {
     "slide_type": "subslide"
    }
   },
   "source": [
    "<b>b. Does 'Supercalifragilisticexpialidocious' contain 'ice' as a substring?"
   ]
  },
  {
   "cell_type": "code",
   "execution_count": 24,
   "metadata": {},
   "outputs": [
    {
     "name": "stdout",
     "output_type": "stream",
     "text": [
      "Hurray! Supercalifragilisticexpialidocious' contain 'ice' as a substring.\n"
     ]
    }
   ],
   "source": [
    "a = 'ice'\n",
    "\n",
    "if a in word:\n",
    "    print(\"Hurray! Supercalifragilisticexpialidocious' contain 'ice' as a substring.\")\n",
    "else:\n",
    "    print(\"Alas! Supercalifragilisticexpialidocious' does not contain 'ice' as a substring.\")"
   ]
  },
  {
   "cell_type": "markdown",
   "metadata": {
    "slideshow": {
     "slide_type": "subslide"
    }
   },
   "source": [
    "<b>c. Which of the following words is the longest:\n",
    "Supercalifragilisticexpialidocious, Honorificabilitudinitatibus, or Bababadalgharaghtakamminarronnkonn?"
   ]
  },
  {
   "cell_type": "code",
   "execution_count": 25,
   "metadata": {},
   "outputs": [
    {
     "name": "stdout",
     "output_type": "stream",
     "text": [
      "The longest word is: Supercalifragilisticexpialidocious\n"
     ]
    }
   ],
   "source": [
    "my_list = ['Supercalifragilisticexpialidocious', 'Honorificabilitudinitatibus', 'Bababadalgharaghtakamminarronnkonn']\n",
    "print(\"The longest word is:\" , max(my_list))"
   ]
  },
  {
   "cell_type": "markdown",
   "metadata": {
    "slideshow": {
     "slide_type": "subslide"
    }
   },
   "source": [
    "<b>d. Which composer comes first in the dictionary: 'Berlioz', 'Borodin', 'Brian','Bartok', 'Bellini', 'Buxtehude', 'Bernstein'. Which one comes last?"
   ]
  },
  {
   "cell_type": "code",
   "execution_count": 26,
   "metadata": {},
   "outputs": [
    {
     "name": "stdout",
     "output_type": "stream",
     "text": [
      "First composer: Bartok , Last composer: Buxtehude\n"
     ]
    }
   ],
   "source": [
    "composers = ['Berlioz', 'Borodin', 'Brian','Bartok', 'Bellini', 'Buxtehude', 'Bernstein']\n",
    "composers.sort()\n",
    "print(\"First composer:\", composers[0], \",\" , \"Last composer:\", composers[len(composers)-1])"
   ]
  },
  {
   "cell_type": "markdown",
   "metadata": {
    "slideshow": {
     "slide_type": "slide"
    }
   },
   "source": [
    "<h2><font color='#004b87'>Question 03</font></h2>\n",
    "<p></p>\n",
    "\n",
    "<p> Implement function triangleArea(a,b,c) that takes as input the lengths of the 3\n",
    "sides of a triangle and returns the area of the triangle. By Heron's formula, the area\n",
    "of a triangle with side lengths a, b, and c is\n",
    "sqrt(s(s - a)(s -b)(s -c))\n",
    ", where\n",
    "s = (a+b+c)/2.\n",
    "    \n",
    "</p>"
   ]
  },
  {
   "cell_type": "code",
   "execution_count": 27,
   "metadata": {},
   "outputs": [
    {
     "name": "stdout",
     "output_type": "stream",
     "text": [
      "Area of the triangle is: 1.7320508075688772\n"
     ]
    }
   ],
   "source": [
    "import math\n",
    "def triangleArea(a,b,c):\n",
    "    s = (a+b+c)/2\n",
    "    area = math.sqrt(s*(s-a)*(s-b)*(s-c))\n",
    "    print(\"Area of the triangle is:\" , area)\n",
    "    \n",
    "triangleArea(2,2,2)   #length of each side is 2"
   ]
  },
  {
   "cell_type": "markdown",
   "metadata": {
    "slideshow": {
     "slide_type": "slide"
    }
   },
   "source": [
    "<h2><font color='#004b87'>Question 04</font></h2>\n",
    "<p></p>\n",
    "\n",
    "<p> Write a program in python to separate odd and even integers in separate arrays. Go to the editor <br>\n",
    "Test Data : <br>\n",
    "Input the number of elements to be stored in the array :5  <br>\n",
    "Input 5 elements in the array :    <br>\n",
    "element - 0 : 25   <br>\n",
    "element - 1 : 47   <br>\n",
    "element - 2 : 42   <br>\n",
    "element - 3 : 56   <br>\n",
    "element - 4 : 32   <br>\n",
    "Expected Output:   <br>\n",
    "The Even elements are:  <br>\n",
    "42 56 32 <br>\n",
    "The Odd elements are :   <br>\n",
    "25 47   <br>\n",
    "    \n"
   ]
  },
  {
   "cell_type": "code",
   "execution_count": 28,
   "metadata": {},
   "outputs": [
    {
     "name": "stdout",
     "output_type": "stream",
     "text": [
      "How many elements to be stored in the array: 5\n",
      "Enter Element - 0: 25\n",
      "Enter Element - 1: 47\n",
      "Enter Element - 2: 42\n",
      "Enter Element - 3: 56\n",
      "Enter Element - 4: 32\n",
      "The even elements are:\n",
      "[42, 56, 32]\n",
      "The odd elements are:\n",
      "[25, 47]\n"
     ]
    }
   ],
   "source": [
    "number = int(input(\"How many elements to be stored in the array: \"))\n",
    "my_list = list()\n",
    "odd_number = list()\n",
    "even_number = list()\n",
    "\n",
    "for i in range(number):\n",
    "    my_list.append(int(input(f\"Enter Element - {i}: \")))\n",
    "\n",
    "for n in my_list:\n",
    "    if(n%2==0):\n",
    "        even_number.append(n)\n",
    "    else:\n",
    "        odd_number.append(n)\n",
    "\n",
    "print(\"The even elements are:\")\n",
    "print(even_number)\n",
    "print(\"The odd elements are:\")\n",
    "print(odd_number)"
   ]
  },
  {
   "cell_type": "markdown",
   "metadata": {
    "slideshow": {
     "slide_type": "slide"
    }
   },
   "source": [
    "<h2><font color='#004b87'>Question 05</font></h2>\n",
    "<p></p>"
   ]
  },
  {
   "cell_type": "markdown",
   "metadata": {},
   "source": [
    "<p> <b> a. Write a function inside(x,y,x1,y1,x2,y2) that returns True or False depending on whether the point (x,y) lies in the rectangle with lower left corner (x1,y1) and upper right corner (x2,y2). "
   ]
  },
  {
   "cell_type": "code",
   "execution_count": 29,
   "metadata": {},
   "outputs": [],
   "source": [
    "def inside(x,y,x1,y1,x2,y2):\n",
    "    return ((x >= x1 and x <= x2) and (y >= y1 and y <= y2))"
   ]
  },
  {
   "cell_type": "code",
   "execution_count": 30,
   "metadata": {},
   "outputs": [
    {
     "name": "stdout",
     "output_type": "stream",
     "text": [
      "True\n"
     ]
    }
   ],
   "source": [
    "print(inside(1,1,0,0,2,3))    #first case"
   ]
  },
  {
   "cell_type": "code",
   "execution_count": 31,
   "metadata": {},
   "outputs": [
    {
     "name": "stdout",
     "output_type": "stream",
     "text": [
      "False\n"
     ]
    }
   ],
   "source": [
    "print(inside(-1,-1,0,0,2,3))  #second case"
   ]
  },
  {
   "cell_type": "markdown",
   "metadata": {},
   "source": [
    "<p> <b> b. Use function inside() from part a. to write an expression that tests whether the point (1,1) lies in both of the following rectangles: one with lower left corner (0.3, 0.5) and upper right corner (1.1, 0.7) and the other with lower left corner (0.5, 0.2) and upper right corner (1.1, 2). "
   ]
  },
  {
   "cell_type": "code",
   "execution_count": 32,
   "metadata": {},
   "outputs": [
    {
     "name": "stdout",
     "output_type": "stream",
     "text": [
      "point(1,1) does not lie in both of the rectangles.\n"
     ]
    }
   ],
   "source": [
    "point = [1,1]\n",
    "rect_1 = inside(point[0], point[1], 0.3, 0.5, 1.1, 0.7)\n",
    "rect_2 = inside(point[0], point[1], 0.5, 0.2, 1.1, 2)\n",
    "check = rect_1 and rect_2\n",
    "if check == False:\n",
    "    print(\"point(1,1) does not lie in both of the rectangles.\")\n",
    "elif check == True:\n",
    "    print(\"point(1,1) lies in both of the rectangles.\")\n",
    "else:\n",
    "    print(\"Systematic error!\")"
   ]
  },
  {
   "cell_type": "markdown",
   "metadata": {
    "slideshow": {
     "slide_type": "slide"
    }
   },
   "source": [
    "<h2><font color='#004b87'>Question 06</font></h2>\n",
    "<p></p>"
   ]
  },
  {
   "cell_type": "markdown",
   "metadata": {},
   "source": [
    "<p> <b> You can turn a word into pig-Latin using the following two rules (simplified): <br>\n",
    "• If the word starts with a consonant, move that letter to the end and append 'ay'. For example, 'happy' becomes 'appyhay' and 'pencil' becomes 'encilpay'. <br>\n",
    "• If the word starts with a vowel, simply append 'way' to the end of the word. For example, 'enter' becomes 'enterway' and 'other' becomes 'otherway' . For our purposes, there are 5 vowels: a, e, i, o, u (so we count y as a consonant). <br>\n",
    "    \n",
    "Write a function pig() that takes a word (i.e., a string) as input and returns its pigLatin form. Your function should still work if the input word contains upper case characters. Your output should always be lower case however. </p>"
   ]
  },
  {
   "cell_type": "code",
   "execution_count": 33,
   "metadata": {},
   "outputs": [
    {
     "name": "stdout",
     "output_type": "stream",
     "text": [
      "Write a message to convert: happy\n",
      "The pig latin form of message is: appyhay\n",
      "Write a message to convert: Enter\n",
      "The pig latin form of message is: enterway\n"
     ]
    }
   ],
   "source": [
    "vowel_list = ['a', 'e', 'i', 'o' , 'u']\n",
    "\n",
    "def pig_lat(w):\n",
    "    if w[0].lower() in vowel_list:   #if it starts with a vowel\n",
    "        return w.lower() + 'way'\n",
    "    else:\n",
    "        return w[1:].lower() + w[0].lower() + 'ay'\n",
    "\n",
    "for i in range(2):\n",
    "    message = input(\"Write a message to convert: \")\n",
    "    latin_form = pig_lat(message)\n",
    "    print(\"The pig latin form of message is:\", latin_form)"
   ]
  },
  {
   "cell_type": "markdown",
   "metadata": {
    "slideshow": {
     "slide_type": "slide"
    }
   },
   "source": [
    "<h2><font color='#004b87'>Question 07</font></h2>\n",
    "<p></p>"
   ]
  },
  {
   "cell_type": "markdown",
   "metadata": {},
   "source": [
    "<p>\n",
    "File <u> bloodtype1.txt </u> records blood-types of patients (A, B, AB, O or OO) at a clinic. <br>\n",
    "Write a function bldcount() that reads the file with name name and reports (i.e., prints) how many patients there are in each bloodtype.  <br>\n",
    "    \n",
    "<b><i> bldcount('bloodtype.txt')  </b> </i>\n",
    "    <br>\n",
    "There are 10 patients of blood type A.  <br>\n",
    "There is one patient of blood type B.   <br>\n",
    "There are 10 patients of blood type AB. <br>\n",
    "There are 12 patients of blood type O.  <br>\n",
    "There are no patients of blood type OO. <br>\n",
    "</p>"
   ]
  },
  {
   "cell_type": "code",
   "execution_count": 34,
   "metadata": {},
   "outputs": [
    {
     "name": "stdout",
     "output_type": "stream",
     "text": [
      "There are 15 patients of blood type A.\n",
      "There is one patient of blood type B.\n",
      "There are 13 patients of blood type AB.\n",
      "There are 15 patients of blood type O.\n",
      "There are no patients of blood type OO.\n"
     ]
    }
   ],
   "source": [
    "def bldcount(file): \n",
    "    \n",
    "    in_file = open('bloodtype1.txt', 'r') \n",
    "    content = in_file.read()\n",
    "    in_file.close() \n",
    "    \n",
    "    content = content.split()\n",
    "    \n",
    "    bloodtypes_list = ['A','B','AB','O','OO'] \n",
    "    \n",
    "    \n",
    "    for i in bloodtypes_list: \n",
    "        if content.count(i) == 0: \n",
    "            print(\"There are no patients of blood type\", i+'.')\n",
    "        elif content.count(i) == 1: \n",
    "            print(\"There is one patient of blood type\", i+'.')    \n",
    "        else: \n",
    "            print(\"There are\", content.count(i), \"patients of blood type\", i+'.') \n",
    "\n",
    "bldcount('bloodtype.txt')"
   ]
  },
  {
   "cell_type": "markdown",
   "metadata": {
    "slideshow": {
     "slide_type": "slide"
    }
   },
   "source": [
    "<h2><font color='#004b87'>Question 08</font></h2>\n",
    "<p></p>"
   ]
  },
  {
   "cell_type": "markdown",
   "metadata": {},
   "source": [
    "<p> <b>\n",
    "Write a function curconv() that takes as input: <br>1. a currency represented using a string (e.g., 'JPY' for the Japanese Yen or\n",
    "'EUR' for the Euro) <br>\n",
    "2. an amount <br><br>\n",
    "and then converts and returns the amount in US dollars\n",
    "    </p>"
   ]
  },
  {
   "cell_type": "code",
   "execution_count": 35,
   "metadata": {},
   "outputs": [
    {
     "name": "stdout",
     "output_type": "stream",
     "text": [
      "Enter the currency: EUR\n",
      "Enter the amount to be exchanged: 100\n",
      "Equivalent amount in US dollars: 122.96544\n",
      "Enter the currency: JPY\n",
      "Enter the amount to be exchanged: 100\n",
      "Equivalent amount in US dollars: 1.241401\n"
     ]
    }
   ],
   "source": [
    "def curconv():\n",
    "   \n",
    "    rates = {\n",
    "        'AUD': 1.0345157,\n",
    "        'CHF': 1.0237414,\n",
    "        'CNY': 0.1550176,\n",
    "        'DKK': 0.1651442,\n",
    "        'EUR': 1.2296544,\n",
    "        'GBP': 1.5550989,\n",
    "        'HKD': 0.1270207,\n",
    "        'INR': 0.0177643,\n",
    "        'JPY': 0.01241401,\n",
    "        'MXN': 0.0751848,\n",
    "        'MYR': 0.3145411,\n",
    "        'NOK': 0.1677063,\n",
    "        'NZD': 0.8003591,\n",
    "        'PHP': 0.0233234,\n",
    "        'SEK': 0.148269,\n",
    "        'SGD': 0.788871,\n",
    "        'THB': 0.0313789\n",
    "    }\n",
    "    \n",
    "    currency = input(\"Enter the currency: \")\n",
    "    amt = float(input(\"Enter the amount to be exchanged: \"))\n",
    "    \n",
    "    if currency in rates:\n",
    "        amount_usd = amt * rates[currency]\n",
    "        return amount_usd\n",
    "    else:\n",
    "        return None\n",
    "\n",
    "\n",
    "for i in range(2):\n",
    "    cnvt_amt = curconv()\n",
    "    \n",
    "    if cnvt_amt is not None:\n",
    "        print(\"Equivalent amount in US dollars:\", cnvt_amt)\n",
    "    else:\n",
    "        print(\"Invalid currency entered.\")"
   ]
  },
  {
   "cell_type": "markdown",
   "metadata": {
    "slideshow": {
     "slide_type": "slide"
    }
   },
   "source": [
    "<h2><font color='#004b87'>Question 09</font></h2>\n",
    "<p></p>"
   ]
  },
  {
   "cell_type": "markdown",
   "metadata": {},
   "source": [
    "<p> <b> Each of the following will cause an exception (an error). Identify what type of exception each will cause. </p>"
   ]
  },
  {
   "cell_type": "code",
   "execution_count": 36,
   "metadata": {},
   "outputs": [
    {
     "ename": "TypeError",
     "evalue": "unsupported operand type(s) for +: 'int' and 'str'",
     "output_type": "error",
     "traceback": [
      "\u001b[1;31m---------------------------------------------------------------------------\u001b[0m",
      "\u001b[1;31mTypeError\u001b[0m                                 Traceback (most recent call last)",
      "Cell \u001b[1;32mIn[36], line 4\u001b[0m\n\u001b[0;32m      1\u001b[0m input_1 \u001b[38;5;241m=\u001b[39m \u001b[38;5;241m6\u001b[39m\n\u001b[0;32m      2\u001b[0m input_2 \u001b[38;5;241m=\u001b[39m \u001b[38;5;124m'\u001b[39m\u001b[38;5;124ma\u001b[39m\u001b[38;5;124m'\u001b[39m\n\u001b[1;32m----> 4\u001b[0m result \u001b[38;5;241m=\u001b[39m \u001b[43minput_1\u001b[49m\u001b[43m \u001b[49m\u001b[38;5;241;43m+\u001b[39;49m\u001b[43m \u001b[49m\u001b[43minput_2\u001b[49m\n",
      "\u001b[1;31mTypeError\u001b[0m: unsupported operand type(s) for +: 'int' and 'str'"
     ]
    }
   ],
   "source": [
    "input_1 = 6\n",
    "input_2 = 'a'\n",
    "\n",
    "result = input_1 + input_2      "
   ]
  },
  {
   "cell_type": "markdown",
   "metadata": {},
   "source": [
    "The above expression will create a type error as the first operand is of integer type and the second operand is of string type."
   ]
  },
  {
   "cell_type": "code",
   "execution_count": 37,
   "metadata": {},
   "outputs": [
    {
     "ename": "IndexError",
     "evalue": "list index out of range",
     "output_type": "error",
     "traceback": [
      "\u001b[1;31m---------------------------------------------------------------------------\u001b[0m",
      "\u001b[1;31mIndexError\u001b[0m                                Traceback (most recent call last)",
      "Cell \u001b[1;32mIn[37], line 2\u001b[0m\n\u001b[0;32m      1\u001b[0m my_list_q9 \u001b[38;5;241m=\u001b[39m [\u001b[38;5;124m'\u001b[39m\u001b[38;5;124mApple\u001b[39m\u001b[38;5;124m'\u001b[39m, \u001b[38;5;124m'\u001b[39m\u001b[38;5;124mBanana\u001b[39m\u001b[38;5;124m'\u001b[39m, \u001b[38;5;124m'\u001b[39m\u001b[38;5;124mMango\u001b[39m\u001b[38;5;124m'\u001b[39m, \u001b[38;5;124m'\u001b[39m\u001b[38;5;124mGrapes\u001b[39m\u001b[38;5;124m'\u001b[39m, \u001b[38;5;124m'\u001b[39m\u001b[38;5;124mOrange\u001b[39m\u001b[38;5;124m'\u001b[39m, \u001b[38;5;124m'\u001b[39m\u001b[38;5;124mPeach\u001b[39m\u001b[38;5;124m'\u001b[39m, \u001b[38;5;124m'\u001b[39m\u001b[38;5;124mBanana\u001b[39m\u001b[38;5;124m'\u001b[39m, \u001b[38;5;124m'\u001b[39m\u001b[38;5;124mStrawberry\u001b[39m\u001b[38;5;124m'\u001b[39m, \u001b[38;5;124m'\u001b[39m\u001b[38;5;124mMelon\u001b[39m\u001b[38;5;124m'\u001b[39m, \u001b[38;5;124m'\u001b[39m\u001b[38;5;124mKiwi\u001b[39m\u001b[38;5;124m'\u001b[39m]\n\u001b[1;32m----> 2\u001b[0m \u001b[38;5;28mprint\u001b[39m(\u001b[38;5;124m\"\u001b[39m\u001b[38;5;124mThe 12th item in the list is\u001b[39m\u001b[38;5;124m\"\u001b[39m, \u001b[43mmy_list_q9\u001b[49m\u001b[43m[\u001b[49m\u001b[38;5;241;43m11\u001b[39;49m\u001b[43m]\u001b[49m)\n",
      "\u001b[1;31mIndexError\u001b[0m: list index out of range"
     ]
    }
   ],
   "source": [
    "my_list_q9 = ['Apple', 'Banana', 'Mango', 'Grapes', 'Orange', 'Peach', 'Banana', 'Strawberry', 'Melon', 'Kiwi']\n",
    "print(\"The 12th item in the list is\", my_list_q9[11])"
   ]
  },
  {
   "cell_type": "markdown",
   "metadata": {},
   "source": [
    "The above code will create an index error as we are refering to the 12th item in the list but we only have ten items in the list so this will create an error for the index we are refering to in this question."
   ]
  },
  {
   "cell_type": "code",
   "execution_count": 38,
   "metadata": {},
   "outputs": [
    {
     "ename": "ValueError",
     "evalue": "math domain error",
     "output_type": "error",
     "traceback": [
      "\u001b[1;31m---------------------------------------------------------------------------\u001b[0m",
      "\u001b[1;31mValueError\u001b[0m                                Traceback (most recent call last)",
      "Cell \u001b[1;32mIn[38], line 3\u001b[0m\n\u001b[0;32m      1\u001b[0m \u001b[38;5;28;01mimport\u001b[39;00m \u001b[38;5;21;01mmath\u001b[39;00m\n\u001b[1;32m----> 3\u001b[0m \u001b[38;5;28mprint\u001b[39m(\u001b[43mmath\u001b[49m\u001b[38;5;241;43m.\u001b[39;49m\u001b[43msqrt\u001b[49m\u001b[43m(\u001b[49m\u001b[38;5;241;43m-\u001b[39;49m\u001b[38;5;241;43m1.0\u001b[39;49m\u001b[43m)\u001b[49m)\n",
      "\u001b[1;31mValueError\u001b[0m: math domain error"
     ]
    }
   ],
   "source": [
    "import math\n",
    "\n",
    "print(math.sqrt(-1.0))"
   ]
  },
  {
   "cell_type": "markdown",
   "metadata": {},
   "source": [
    "The above code will create a value error as we are trying to print a square root of -1.0 using math library which is a logical error with respect to mathematical principles."
   ]
  },
  {
   "cell_type": "code",
   "execution_count": 39,
   "metadata": {},
   "outputs": [
    {
     "ename": "NameError",
     "evalue": "name 'x' is not defined",
     "output_type": "error",
     "traceback": [
      "\u001b[1;31m---------------------------------------------------------------------------\u001b[0m",
      "\u001b[1;31mNameError\u001b[0m                                 Traceback (most recent call last)",
      "Cell \u001b[1;32mIn[39], line 1\u001b[0m\n\u001b[1;32m----> 1\u001b[0m \u001b[38;5;28mprint\u001b[39m(\u001b[43mx\u001b[49m)\n",
      "\u001b[1;31mNameError\u001b[0m: name 'x' is not defined"
     ]
    }
   ],
   "source": [
    "print(x)"
   ]
  },
  {
   "cell_type": "markdown",
   "metadata": {},
   "source": [
    "The above code will create a name error as we are trying to print a variable 'x' which is not defined and does not exsist in the memory."
   ]
  },
  {
   "cell_type": "code",
   "execution_count": 40,
   "metadata": {},
   "outputs": [
    {
     "ename": "FileNotFoundError",
     "evalue": "[Errno 2] No such file or directory: 'georgian.txt'",
     "output_type": "error",
     "traceback": [
      "\u001b[1;31m---------------------------------------------------------------------------\u001b[0m",
      "\u001b[1;31mFileNotFoundError\u001b[0m                         Traceback (most recent call last)",
      "Cell \u001b[1;32mIn[40], line 1\u001b[0m\n\u001b[1;32m----> 1\u001b[0m f \u001b[38;5;241m=\u001b[39m \u001b[38;5;28;43mopen\u001b[39;49m\u001b[43m(\u001b[49m\u001b[38;5;124;43m\"\u001b[39;49m\u001b[38;5;124;43mgeorgian.txt\u001b[39;49m\u001b[38;5;124;43m\"\u001b[39;49m\u001b[43m)\u001b[49m\n",
      "File \u001b[1;32m~\\AppData\\Local\\NEW\\lib\\site-packages\\IPython\\core\\interactiveshell.py:282\u001b[0m, in \u001b[0;36m_modified_open\u001b[1;34m(file, *args, **kwargs)\u001b[0m\n\u001b[0;32m    275\u001b[0m \u001b[38;5;28;01mif\u001b[39;00m file \u001b[38;5;129;01min\u001b[39;00m {\u001b[38;5;241m0\u001b[39m, \u001b[38;5;241m1\u001b[39m, \u001b[38;5;241m2\u001b[39m}:\n\u001b[0;32m    276\u001b[0m     \u001b[38;5;28;01mraise\u001b[39;00m \u001b[38;5;167;01mValueError\u001b[39;00m(\n\u001b[0;32m    277\u001b[0m         \u001b[38;5;124mf\u001b[39m\u001b[38;5;124m\"\u001b[39m\u001b[38;5;124mIPython won\u001b[39m\u001b[38;5;124m'\u001b[39m\u001b[38;5;124mt let you open fd=\u001b[39m\u001b[38;5;132;01m{\u001b[39;00mfile\u001b[38;5;132;01m}\u001b[39;00m\u001b[38;5;124m by default \u001b[39m\u001b[38;5;124m\"\u001b[39m\n\u001b[0;32m    278\u001b[0m         \u001b[38;5;124m\"\u001b[39m\u001b[38;5;124mas it is likely to crash IPython. If you know what you are doing, \u001b[39m\u001b[38;5;124m\"\u001b[39m\n\u001b[0;32m    279\u001b[0m         \u001b[38;5;124m\"\u001b[39m\u001b[38;5;124myou can use builtins\u001b[39m\u001b[38;5;124m'\u001b[39m\u001b[38;5;124m open.\u001b[39m\u001b[38;5;124m\"\u001b[39m\n\u001b[0;32m    280\u001b[0m     )\n\u001b[1;32m--> 282\u001b[0m \u001b[38;5;28;01mreturn\u001b[39;00m io_open(file, \u001b[38;5;241m*\u001b[39margs, \u001b[38;5;241m*\u001b[39m\u001b[38;5;241m*\u001b[39mkwargs)\n",
      "\u001b[1;31mFileNotFoundError\u001b[0m: [Errno 2] No such file or directory: 'georgian.txt'"
     ]
    }
   ],
   "source": [
    "f = open(\"georgian.txt\")"
   ]
  },
  {
   "cell_type": "markdown",
   "metadata": {},
   "source": [
    "The above code will create a File not found error as we are trying to open a file which does not exist in the memory path."
   ]
  },
  {
   "cell_type": "markdown",
   "metadata": {
    "slideshow": {
     "slide_type": "slide"
    }
   },
   "source": [
    "<h2><font color='#004b87'>Question 10</font></h2>\n",
    "<p></p>"
   ]
  },
  {
   "cell_type": "markdown",
   "metadata": {},
   "source": [
    "Encryption is the process of hiding the meaning of a text by substituting letters in the  message with other letters, according to some system. If the process is successful, no one but the intended recipient can understand the encrypted message. Cryptanalysis refers to attempts to undo the encryption, even if some details of the encryption are  unknown (for example, if an encrypted message has been intercepted). The first step  of cryptanalysis is often to build up a table of letter frequencies in the encrypted text. Assume that the string letters is already defined as 'abcdefghijklmnopqrstuvwxyz'. <br>\n",
    "<b>\n",
    "Write a function called frequencies() that takes a string as its only parameter, and returns a list of integers, showing the \n",
    "number of times each character appears in the text. Your function may ignore any characters that are not in letters."
   ]
  },
  {
   "cell_type": "code",
   "execution_count": 41,
   "metadata": {},
   "outputs": [
    {
     "name": "stdout",
     "output_type": "stream",
     "text": [
      "[1, 1, 1, 3, 5, 1, 1, 2, 1, 0, 1, 0, 1, 2, 4, 0, 1, 2, 0, 3, 1, 0, 1, 1, 0, 0]\n",
      "[1, 0, 0, 0, 1, 0, 0, 0, 0, 0, 0, 1, 0, 0, 0, 2, 0, 0, 0, 0, 0, 0, 0, 0, 0, 0]\n"
     ]
    }
   ],
   "source": [
    "def frequencies(user_input):\n",
    "    alpha = 'abcdefghijklmnopqrstuvwxyz'\n",
    "    \n",
    "    f = [0] * 26\n",
    "    \n",
    "    user_input = user_input.lower()\n",
    "    \n",
    "    for c in user_input:\n",
    "        \n",
    "        if c in alpha:\n",
    "            \n",
    "            f[alpha.index(c)] += 1\n",
    "            \n",
    "    print(f) \n",
    "    \n",
    "frequencies('The quick red fox got bored and went home.')\n",
    "frequencies('apple')"
   ]
  }
 ],
 "metadata": {
  "celltoolbar": "Slideshow",
  "kernelspec": {
   "display_name": "Python 3 (ipykernel)",
   "language": "python",
   "name": "python3"
  },
  "language_info": {
   "codemirror_mode": {
    "name": "ipython",
    "version": 3
   },
   "file_extension": ".py",
   "mimetype": "text/x-python",
   "name": "python",
   "nbconvert_exporter": "python",
   "pygments_lexer": "ipython3",
   "version": "3.10.9"
  }
 },
 "nbformat": 4,
 "nbformat_minor": 4
}
